{
 "cells": [
  {
   "cell_type": "code",
   "execution_count": 4,
   "metadata": {},
   "outputs": [],
   "source": [
    "import numpy as np"
   ]
  },
  {
   "cell_type": "code",
   "execution_count": 89,
   "metadata": {},
   "outputs": [],
   "source": [
    "# def get_tiling(feat_range, bin_size, offset):\n",
    "#     bins = int((feat_range[1] - feat_range[0] - offset)/bin_size)\n",
    "#     print (bins)\n",
    "#     return np.linspace(feat_range[0], feat_range[1],bins + 1) + offset\n",
    "\n",
    "\n",
    "def get_t(feat_range, bin_size, offset):\n",
    "    tiling = []\n",
    "    accumulate = feat_range[0] + offset + bin_size\n",
    "    tiling.append(feat_range[0] + offset)\n",
    "    while(accumulate < feat_range[1]):\n",
    "        tiling.append(accumulate)\n",
    "        accumulate += (bin_size + 1)\n",
    "    return np.array(tiling)"
   ]
  },
  {
   "cell_type": "code",
   "execution_count": 158,
   "metadata": {},
   "outputs": [
    {
     "name": "stdout",
     "output_type": "stream",
     "text": [
      "2\n",
      "2\n"
     ]
    },
    {
     "data": {
      "text/plain": [
       "'\\nprint(a3,a4)\\nb = 18\\nprint(clip_val(2 * (np.digitize(b,a3, right = True) - 1), 5))\\nprint(2 * (np.digitize(b,a4) - 1) + 1)\\nWORKING \\n'"
      ]
     },
     "execution_count": 158,
     "metadata": {},
     "output_type": "execute_result"
    }
   ],
   "source": [
    "#dealer_showing:\n",
    "feat_range = [1,10]\n",
    "bin_size = 3\n",
    "offset = 0\n",
    "a12 = get_t(feat_range, bin_size, offset)\n",
    "\n",
    "#player_sum:\n",
    "feat_range = [1,21]\n",
    "bin_size = 5\n",
    "offset = 0\n",
    "a3 = get_t(feat_range, bin_size, offset)\n",
    "\n",
    "feat_range = [1,21]\n",
    "bin_size = 5\n",
    "offset = 3\n",
    "a4 = get_t(feat_range, bin_size, offset)\n",
    "\n",
    "a5 = np.array([0,1])\n",
    "# print(a12,a3,a4, a5)\n",
    "\n",
    "def clip_val(x, ub):\n",
    "    lb = 0\n",
    "    if x < lb:\n",
    "        return lb\n",
    "    if x > ub:\n",
    "        return ub\n",
    "    return x\n",
    "\n",
    "b = 10\n",
    "print(clip_val(np.digitize(b,a12, right = False) - 1, 2))\n",
    "print(clip_val(np.digitize(b,a12, right = True) - 1, 2))\n",
    "\n",
    "'''\n",
    "print(a3,a4)\n",
    "b = 18\n",
    "print(clip_val(2 * (np.digitize(b,a3, right = True) - 1), 5))\n",
    "print(2 * (np.digitize(b,a4) - 1) + 1)\n",
    "WORKING \n",
    "'''"
   ]
  },
  {
   "cell_type": "code",
   "execution_count": 147,
   "metadata": {},
   "outputs": [
    {
     "name": "stdout",
     "output_type": "stream",
     "text": [
      "[0. 0. 0. 1. 0. 0. 0. 0. 0. 0. 0. 0. 0. 0. 0. 1. 0. 0. 0. 0. 0. 0. 0. 0.\n",
      " 0. 0. 0. 0. 0. 0. 0. 0. 0. 0. 0. 0.]\n"
     ]
    }
   ],
   "source": [
    "t_coding = np.zeros((3,6,2))\n",
    "ub_0 = t_coding.shape[0] - 1\n",
    "ub_1 = t_coding.shape[1] - 1\n",
    "ub_2 = t_coding.shape[2] - 1\n",
    "\n",
    "state = (5,4)\n",
    "action = 1\n",
    "\n",
    "#tile coding:\n",
    "#1\n",
    "axis_1 = []\n",
    "axis_0 = []\n",
    "axis_2 = np.digitize(action, a5, right = True)\n",
    "\n",
    "axis_1.append(clip_val(2 * (np.digitize(state[0],a3, right = True) - 1), ub_1))\n",
    "axis_1.append(2 * (np.digitize(state[0],a4) - 1) + 1)\n",
    "\n",
    "axis_0.append(clip_val(np.digitize(state[1], a12, right = False) - 1, ub_0))\n",
    "axis_0.append(clip_val(np.digitize(state[1], a12, right = True) - 1, ub_0))\n",
    "\n",
    "axis_1 = np.array(axis_1)\n",
    "axis_0 = np.array(axis_0)\n",
    "axis_2 = np.array(axis_2)\n",
    "\n",
    "#remove the -1 index that comes for state[1] = 1 in interval [4,9]\n",
    "axis_1 = axis_1[axis_1 > 0]\n",
    "\n",
    "t_coding[axis_0,axis_1,axis_2] = 1\n",
    "\n",
    "print(np.reshape(t_coding,(-1)))\n"
   ]
  },
  {
   "cell_type": "code",
   "execution_count": null,
   "metadata": {},
   "outputs": [],
   "source": []
  }
 ],
 "metadata": {
  "kernelspec": {
   "display_name": "Python 3",
   "language": "python",
   "name": "python3"
  },
  "language_info": {
   "codemirror_mode": {
    "name": "ipython",
    "version": 3
   },
   "file_extension": ".py",
   "mimetype": "text/x-python",
   "name": "python",
   "nbconvert_exporter": "python",
   "pygments_lexer": "ipython3",
   "version": "3.6.1"
  }
 },
 "nbformat": 4,
 "nbformat_minor": 2
}
