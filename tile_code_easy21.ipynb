{
 "cells": [
  {
   "cell_type": "code",
   "execution_count": 1,
   "metadata": {},
   "outputs": [],
   "source": [
    "import numpy as np\n"
   ]
  },
  {
   "cell_type": "code",
   "execution_count": 2,
   "metadata": {},
   "outputs": [],
   "source": [
    "def get_t(feat_range, bin_size, offset):\n",
    "    tiling = []\n",
    "    accumulate = feat_range[0] + offset + bin_size\n",
    "    tiling.append(feat_range[0] + offset)\n",
    "    while(accumulate < feat_range[1]):\n",
    "        tiling.append(accumulate)\n",
    "        accumulate += (bin_size + 1)\n",
    "    return np.array(tiling)"
   ]
  },
  {
   "cell_type": "code",
   "execution_count": 3,
   "metadata": {},
   "outputs": [],
   "source": [
    "def clip_val(x, ub):\n",
    "    lb = 0\n",
    "    if x < lb:\n",
    "        return lb\n",
    "    if x > ub:\n",
    "        return ub\n",
    "    return x"
   ]
  },
  {
   "cell_type": "code",
   "execution_count": 10,
   "metadata": {},
   "outputs": [],
   "source": [
    "def get_tilings():\n",
    "    #dealer_showing: [1,4][4,7][7,10]\n",
    "    feat_range = [1,10]\n",
    "    bin_size = 3\n",
    "    offset = 0\n",
    "    a12 = get_t(feat_range, bin_size, offset)\n",
    "\n",
    "    #player_sum : [1,6][7,12][13,18]\n",
    "    feat_range = [1,21]\n",
    "    bin_size = 5\n",
    "    offset = 0\n",
    "    a3 = get_t(feat_range, bin_size, offset)\n",
    "\n",
    "    #player_sum : [4,9][10,15][16,21]\n",
    "    feat_range = [1,21]\n",
    "    bin_size = 5\n",
    "    offset = 3\n",
    "    a4 = get_t(feat_range, bin_size, offset)\n",
    "\n",
    "    #actions : [hit, stick]\n",
    "    a5 = np.array([0,1])\n",
    "    \n",
    "    tilings = a12, a3, a4, a5\n",
    "    return tilings"
   ]
  },
  {
   "cell_type": "code",
   "execution_count": 26,
   "metadata": {},
   "outputs": [],
   "source": [
    "def get_coding(state, action, tilings):\n",
    "    #matrix to store the tile coded state:\n",
    "    t_coding = np.zeros((3,6,2))\n",
    "    \n",
    "    #unpack tilings : \n",
    "    a12, a3, a4, a5 = tilings\n",
    "    \n",
    "    #upper bounds for index clipping\n",
    "    ub_0 = t_coding.shape[0] - 1\n",
    "    ub_1 = t_coding.shape[1] - 1\n",
    "    ub_2 = t_coding.shape[2] - 1\n",
    "    \n",
    "    #tile coding:\n",
    "    #axis_x store the values of which indices of the t_coding matrix to make 1.\n",
    "    #can be multiple along a tiling because of overlapping tiles\n",
    "    axis_1 = []\n",
    "    axis_0 = []\n",
    "    \n",
    "    axis_2 = np.digitize(action, a5, right = True)\n",
    "    \n",
    "    #multiplied by 2 to get an alternating effect of indicing\n",
    "    #the a3 tiling will append even indices, and the a4 one will append odd indices\n",
    "    axis_1.append(clip_val(2 * (np.digitize(state[0],a3, right = True) - 1), ub_1))\n",
    "    axis_1.append(2 * (np.digitize(state[0],a4) - 1) + 1)\n",
    "    axis_1 = np.array(axis_1)\n",
    "    \n",
    "    axis_0.append(clip_val(np.digitize(state[1], a12, right = False) - 1, ub_0))\n",
    "    axis_0.append(clip_val(np.digitize(state[1], a12, right = True) - 1, ub_0))\n",
    "    axis_0 = np.array(axis_0)\n",
    "    #remove the -1 index that comes for state[1] = 1 in interval [4,9]\n",
    "    axis_1 = axis_1[axis_1 >= 0]\n",
    "    print(axis_0,axis_1,axis_2)\n",
    "    t_coding[axis_0,axis_1,axis_2] = 1\n",
    "\n",
    "    return np.reshape(t_coding,(-1))"
   ]
  },
  {
   "cell_type": "code",
   "execution_count": 31,
   "metadata": {},
   "outputs": [
    {
     "name": "stdout",
     "output_type": "stream",
     "text": [
      "[0 0] [0 1] 1\n",
      "[0. 1. 0. 1. 0. 0. 0. 0. 0. 0. 0. 0. 0. 0. 0. 0. 0. 0. 0. 0. 0. 0. 0. 0.\n",
      " 0. 0. 0. 0. 0. 0. 0. 0. 0. 0. 0. 0.]\n"
     ]
    }
   ],
   "source": [
    "tilings = get_tilings()\n",
    "state = (5,1)\n",
    "action = 1\n",
    "print(get_coding(state, action, tilings))"
   ]
  },
  {
   "cell_type": "code",
   "execution_count": null,
   "metadata": {},
   "outputs": [],
   "source": []
  }
 ],
 "metadata": {
  "kernelspec": {
   "display_name": "Python 3",
   "language": "python",
   "name": "python3"
  },
  "language_info": {
   "codemirror_mode": {
    "name": "ipython",
    "version": 3
   },
   "file_extension": ".py",
   "mimetype": "text/x-python",
   "name": "python",
   "nbconvert_exporter": "python",
   "pygments_lexer": "ipython3",
   "version": "3.6.1"
  }
 },
 "nbformat": 4,
 "nbformat_minor": 2
}
